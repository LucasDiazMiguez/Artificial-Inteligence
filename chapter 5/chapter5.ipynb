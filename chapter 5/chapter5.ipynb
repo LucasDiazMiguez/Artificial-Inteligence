{
 "metadata": {
  "language_info": {
   "codemirror_mode": {
    "name": "ipython",
    "version": 3
   },
   "file_extension": ".py",
   "mimetype": "text/x-python",
   "name": "python",
   "nbconvert_exporter": "python",
   "pygments_lexer": "ipython3",
   "version": "3.9.1"
  },
  "orig_nbformat": 2,
  "kernelspec": {
   "name": "python391jvsc74a57bd0715b504372a4d68b9864eb7e0d7084324df5309186ec361078282348348b3b9a",
   "display_name": "Python 3.9.1 64-bit (conda)"
  },
  "metadata": {
   "interpreter": {
    "hash": "715b504372a4d68b9864eb7e0d7084324df5309186ec361078282348348b3b9a"
   }
  }
 },
 "nbformat": 4,
 "nbformat_minor": 2,
 "cells": [
  {
   "cell_type": "code",
   "execution_count": 33,
   "metadata": {},
   "outputs": [],
   "source": [
    "#from fastai.vision.all import *\n",
    "import re"
   ]
  },
  {
   "source": [
    "\n",
    ".       - Any Character Except New Line <br>\n",
    "\\d      - Digit (0-9)<br>\n",
    "\\D      - Not a Digit (0-9)<br>\n",
    "\\w      - Word Character (a-z, A-Z, 0-9, _)<br>\n",
    "\\W      - Not a Word Character<br>\n",
    "\\s      - Whitespace (space, tab, newline)<br>\n",
    "\\S      - Not Whitespace (space, tab, newline)<br>\n",
    "\n",
    "\\b      - Word Boundary<br>\n",
    "\\B      - Not a Word Boundary<br>\n",
    "^       - Beginning of a String<br>\n",
    "$       - End of a String<br>\n",
    "\n",
    "[]      - Matches Characters in brackets<br>\n",
    "[^ ]    - Matches Characters NOT in brackets<br>\n",
    "|       - Either Or<br>\n",
    "( )     - Group<br>\n",
    "\n",
    "Quantifiers:<br>\n",
    "*       - 0 or More<br>\n",
    "+       - 1 or More<br>\n",
    "?       - 0 or One<br>\n",
    "{3}     - Exact Number<br>\n",
    "{3,4}   - Range of Numbers (Minimum, Maximum)<br>\n",
    "\n",
    "\n",
    "#### Sample Regexs ####<br>\n",
    "\n",
    "[a-zA-Z0-9_.+-]+@[a-zA-Z0-9-]+\\.[a-zA-Z0-9-.]+\n",
    "<h1>Chapter 5</h1><br>\n",
    "\n",
    "Para encontrar textos usamos el comando:<br>\n"
   ],
   "cell_type": "markdown",
   "metadata": {}
  },
  {
   "cell_type": "code",
   "execution_count": 34,
   "metadata": {},
   "outputs": [
    {
     "output_type": "error",
     "ename": "SyntaxError",
     "evalue": "invalid character '’' (U+2019) (<ipython-input-34-c35f8ea3a41f>, line 1)",
     "traceback": [
      "\u001b[1;36m  File \u001b[1;32m\"<ipython-input-34-c35f8ea3a41f>\"\u001b[1;36m, line \u001b[1;32m1\u001b[0m\n\u001b[1;33m    pattern= re.compile(r’abc’) # la r significa Raw\u001b[0m\n\u001b[1;37m                         ^\u001b[0m\n\u001b[1;31mSyntaxError\u001b[0m\u001b[1;31m:\u001b[0m invalid character '’' (U+2019)\n"
     ]
    }
   ],
   "source": [
    "pattern= re.compile(r’abc’) # la r significa Raw\n",
    "matches= pattern.finditer(text_to_search)\n",
    "\n",
    "for match in matches: \n",
    "    print(match)\n"
   ]
  },
  {
   "source": [
    "<h3> MetaCharacters ^ $ * + ?  {} [] \\ | () \n",
    "  </h3>\n",
    "\n",
    "son caracteres especiales que realizan alguna función.\n",
    "\n",
    "<h3> MetaCharacters ^ $ * + ?  {} [] \\ | () \n",
    "  </h3>\n",
    ".       -Any character Except New Line <br>\n",
    "\\d      -Digit (0-9)<br>\n",
    "\\D      -Not a Digit (0-9)<br>\n",
    "\\w      -Word Character (a-z,A-Z,0-9) <br>\n",
    "\\W      -Not a Word Character<br>\n",
    "\\s      -Whitespace (space,tab,newline)<br>\n",
    "\\S      -Now Whitespace (space,tab,newline)<br>\n",
    "\\D      -Not a Digit (0-9)<br>\n",
    "\\D      -Not a Digit (0-9)<br>\n",
    "\\D      -Not a Digit (0-9)<br>\n",
    "\\D      -Not a Digit (0-9)<br>\n",
    "\n",
    "<h3> Anchors </h3>\n",
    "No matchean ningun caracter\n",
    "\n",
    "\\b      -Word bundary (seria un espacio o algo despues del string que buscas)<br>\n",
    "\\B      -Not a word BUndary(0-9)<br>\n",
    "\\^      -Beggining of the string<br>\n",
    "\\$      -End of the string(0-9)<br>\n",
    " \n"
   ],
   "cell_type": "markdown",
   "metadata": {}
  },
  {
   "cell_type": "code",
   "execution_count": 35,
   "metadata": {},
   "outputs": [
    {
     "output_type": "stream",
     "name": "stdout",
     "text": [
      "<re.Match object; span=(1, 12), match='321-555-432'>\n<re.Match object; span=(14, 25), match='123.555.123'>\n"
     ]
    }
   ],
   "source": [
    "#example \n",
    "text_to_search= '''\n",
    "321-555-4321\n",
    "123.555.1234\n",
    "'''\n",
    "pattern=re.compile(r'\\d\\d\\d.\\d\\d\\d.\\d\\d\\d')\n",
    "matches=pattern.finditer(text_to_search)\n",
    "\n",
    "for match in matches: \n",
    "    print(match)"
   ]
  },
  {
   "cell_type": "code",
   "execution_count": 36,
   "metadata": {},
   "outputs": [
    {
     "output_type": "stream",
     "name": "stdout",
     "text": [
      "<re.Match object; span=(12, 24), match='615-555-7164'>\n<re.Match object; span=(102, 114), match='800-555-5669'>\n<re.Match object; span=(191, 203), match='560-555-5153'>\n<re.Match object; span=(281, 293), match='900-555-9340'>\n<re.Match object; span=(378, 390), match='714-555-7405'>\n<re.Match object; span=(467, 479), match='800-555-6771'>\n<re.Match object; span=(557, 569), match='783-555-4799'>\n<re.Match object; span=(647, 659), match='516-555-4615'>\n<re.Match object; span=(740, 752), match='127-555-1867'>\n<re.Match object; span=(831, 843), match='608-555-4938'>\n<re.Match object; span=(917, 929), match='568-555-6051'>\n<re.Match object; span=(1005, 1017), match='292-555-1875'>\n<re.Match object; span=(1093, 1105), match='900-555-3205'>\n<re.Match object; span=(1182, 1194), match='614-555-1166'>\n<re.Match object; span=(1273, 1285), match='530-555-2676'>\n<re.Match object; span=(1359, 1371), match='470-555-2750'>\n<re.Match object; span=(1443, 1455), match='800-555-6089'>\n<re.Match object; span=(1530, 1542), match='880-555-8319'>\n<re.Match object; span=(1618, 1630), match='777-555-8378'>\n<re.Match object; span=(1701, 1713), match='998-555-7385'>\n<re.Match object; span=(1794, 1806), match='800-555-7100'>\n<re.Match object; span=(1878, 1890), match='903-555-8277'>\n<re.Match object; span=(1966, 1978), match='196-555-5674'>\n<re.Match object; span=(2055, 2067), match='900-555-5118'>\n<re.Match object; span=(2139, 2151), match='905-555-1630'>\n<re.Match object; span=(2220, 2232), match='203-555-3475'>\n<re.Match object; span=(2304, 2316), match='884-555-8444'>\n<re.Match object; span=(2391, 2403), match='904-555-8559'>\n<re.Match object; span=(2479, 2491), match='889-555-7393'>\n<re.Match object; span=(2566, 2578), match='195-555-2405'>\n<re.Match object; span=(2651, 2663), match='321-555-9053'>\n<re.Match object; span=(2738, 2750), match='133-555-1711'>\n<re.Match object; span=(2830, 2842), match='900-555-5428'>\n<re.Match object; span=(2919, 2931), match='760-555-7147'>\n<re.Match object; span=(3018, 3030), match='391-555-6621'>\n<re.Match object; span=(3109, 3121), match='932-555-7724'>\n<re.Match object; span=(3198, 3210), match='609-555-7908'>\n<re.Match object; span=(3290, 3302), match='800-555-8810'>\n<re.Match object; span=(3378, 3390), match='149-555-7657'>\n<re.Match object; span=(3458, 3470), match='130-555-9709'>\n<re.Match object; span=(3541, 3553), match='143-555-9295'>\n<re.Match object; span=(3630, 3642), match='903-555-9878'>\n<re.Match object; span=(3720, 3732), match='574-555-3194'>\n<re.Match object; span=(3808, 3820), match='496-555-7533'>\n<re.Match object; span=(3893, 3905), match='210-555-3757'>\n<re.Match object; span=(3977, 3989), match='900-555-9598'>\n<re.Match object; span=(4062, 4074), match='866-555-9844'>\n<re.Match object; span=(4146, 4158), match='669-555-7159'>\n<re.Match object; span=(4231, 4243), match='152-555-7417'>\n<re.Match object; span=(4323, 4335), match='893-555-9832'>\n<re.Match object; span=(4413, 4425), match='217-555-7123'>\n<re.Match object; span=(4504, 4516), match='786-555-6544'>\n<re.Match object; span=(4594, 4606), match='780-555-2574'>\n<re.Match object; span=(4682, 4694), match='926-555-8735'>\n<re.Match object; span=(4768, 4780), match='895-555-3539'>\n<re.Match object; span=(4865, 4877), match='874-555-3949'>\n"
     ]
    }
   ],
   "source": [
    "with open('data.txt','r') as f: #r  de read\n",
    "    content = f.read()\n",
    "    pattern=re.compile(r'\\d\\d\\d.\\d\\d\\d.\\d\\d\\d\\d')\n",
    "    matches=pattern.finditer(content)\n",
    "    for match in matches: \n",
    "        print(match)"
   ]
  },
  {
   "source": [
    "si queremos  que seleccione algun numero de telefono separado por - o . podemos usar los []"
   ],
   "cell_type": "markdown",
   "metadata": {}
  },
  {
   "cell_type": "code",
   "execution_count": 37,
   "metadata": {},
   "outputs": [
    {
     "output_type": "stream",
     "name": "stdout",
     "text": [
      "<re.Match object; span=(151, 162), match='321-555-432'>\n<re.Match object; span=(164, 175), match='123.555.123'>\n<re.Match object; span=(190, 201), match='800-555-123'>\n<re.Match object; span=(203, 214), match='900-555-123'>\n"
     ]
    }
   ],
   "source": [
    "text_to_search = '''\n",
    "abcdefghijklmnopqurtuvwxyz\n",
    "ABCDEFGHIJKLMNOPQRSTUVWXYZ\n",
    "1234567890\n",
    "Ha HaHa\n",
    "MetaCharacters (Need to be escaped):\n",
    ". ^ $ * + ? { } [ ] \\ | ( )\n",
    "coreyms.com\n",
    "321-555-4321\n",
    "123.555.1234\n",
    "123*555*1234\n",
    "800-555-1234\n",
    "900-555-1234\n",
    "Mr. Schafer\n",
    "Mr Smith\n",
    "Ms Davis\n",
    "Mrs. Robinson\n",
    "Mr. T\n",
    "'''\n",
    "pattern=re.compile(r'\\d\\d\\d[--.]\\d\\d\\d[--.]\\d\\d\\d') #TODO WARNING solo matchea un caracter \n",
    "matches=pattern.finditer(text_to_search)\n",
    "for match in matches: \n",
    "        print(match)\n",
    "        #no imprime el de *"
   ]
  },
  {
   "cell_type": "code",
   "execution_count": 38,
   "metadata": {},
   "outputs": [
    {
     "output_type": "stream",
     "name": "stdout",
     "text": [
      "<re.Match object; span=(190, 201), match='800-555-123'>\n<re.Match object; span=(203, 214), match='900-555-123'>\n"
     ]
    }
   ],
   "source": [
    "pattern=re.compile(r'[89]00[-]\\d\\d\\d[-]\\d\\d\\d')  \n",
    "matches=pattern.finditer(text_to_search)\n",
    "for match in matches: \n",
    "        print(match)\n",
    "        #no imprime el de *"
   ]
  },
  {
   "source": [
    "<h3> A los [ ] se les dice character set </h3>\n",
    "<h3> el - puede especificar un rango de valores si lo pones dentro de []\n",
    " </h3>\n",
    "<h3> el ^ al principio te \"niega\"  lo que vos querés especificar\n",
    " </h3>\n",
    " "
   ],
   "cell_type": "markdown",
   "metadata": {}
  },
  {
   "source": [
    "#el - puede especificar un rango de valores si lo pones dentro de []\n",
    "\n",
    "pattern=re.compile(r'[1-5]')# <br>\n",
    "pattern=re.compile(r'[a-z]') #esto solo es lowercase  <br>\n",
    "pattern=re.compile(r'[A-Z]') #esto solo es uppercase <br>\n",
    "pattern=re.compile(r'[a-zA-Z]') #esto los dos <br>\n",
    "pattern=re.compile(r'[^a-zA-Z]') #No te va a encontrar niguna letra\n"
   ],
   "cell_type": "code",
   "metadata": {},
   "execution_count": 39,
   "outputs": []
  },
  {
   "source": [
    "<h4> Quantifairs </h4>\n",
    "\n",
    "Quantifiers:<br>\n",
    "'*       - 0 or More'<br>\n",
    "'+       - 1 or More'<br>\n",
    "'?       - 0 or One'<br>\n",
    "'{3}     - Exact Number'<br>\n",
    "'{3,4}   - Range of Numbers (Minimum, Maximum)'<br>"
   ],
   "cell_type": "markdown",
   "metadata": {}
  },
  {
   "cell_type": "code",
   "execution_count": 40,
   "metadata": {},
   "outputs": [],
   "source": [
    "#si tenemos un numero de telefono y decimos que solo queremos matchear 3 de esos digitos \n",
    "pattern=re.compile(r'\\d{3}.\\d{3}.\\d{4}')  \n"
   ]
  },
  {
   "cell_type": "code",
   "execution_count": 42,
   "metadata": {},
   "outputs": [
    {
     "output_type": "stream",
     "name": "stdout",
     "text": [
      "<re.Match object; span=(216, 219), match='Mr.'>\n<re.Match object; span=(260, 263), match='Mr.'>\n"
     ]
    }
   ],
   "source": [
    "#nos interesa solo los que tengan mr o ms \r\n",
    "#TODO si pones . sin barra esu n comando especial \r\n",
    "pattern=re.compile(r'Mr\\.')  \r\n",
    "matches=pattern.finditer(text_to_search)\r\n",
    "for match in matches: \r\n",
    "        print(match)"
   ]
  },
  {
   "cell_type": "code",
   "execution_count": 59,
   "metadata": {},
   "outputs": [],
   "source": [
    "# si le pones ?  despues de un caracter que quieras es como decirle este es opcional\n",
    "# si le pones +  es como decirle seleccioname uno o mas de estos\n",
    "# si le pones *  es como decirle seleccioname ZERO o mas de estos\n",
    "#pattern=re.compile(r'Mr\\.?\\s[A-Z]\\w+')  \n",
    "pattern=re.compile(r'Mr\\.?\\s[A-Z]\\w*')  \n",
    "\n",
    "atches=pattern.finditer(text_to_search)\n",
    "for match in matches: \n",
    "        print(match)"
   ]
  },
  {
   "cell_type": "code",
   "execution_count": 67,
   "metadata": {},
   "outputs": [
    {
     "output_type": "stream",
     "name": "stdout",
     "text": [
      "<re.Match object; span=(216, 227), match='Mr. Schafer'>\n<re.Match object; span=(246, 259), match='Mrs. Robinson'>\n<re.Match object; span=(260, 265), match='Mr. T'>\n"
     ]
    }
   ],
   "source": [
    "#si queremos un or o agrupar es con ( | )\n",
    "pattern=re.compile(r'M(r|s|rs)\\.\\s[A-Z]\\w*')  \n",
    "matches=pattern.finditer(text_to_search)\n",
    "for match in matches: \n",
    "        print(match)"
   ]
  },
  {
   "source": [
    "<h1> EXAMPLES </h1>"
   ],
   "cell_type": "markdown",
   "metadata": {}
  },
  {
   "cell_type": "code",
   "execution_count": null,
   "metadata": {},
   "outputs": [],
   "source": []
  },
  {
   "cell_type": "code",
   "execution_count": null,
   "metadata": {},
   "outputs": [],
   "source": []
  },
  {
   "cell_type": "code",
   "execution_count": 83,
   "metadata": {},
   "outputs": [
    {
     "output_type": "stream",
     "name": "stdout",
     "text": [
      "<re.Match object; span=(1, 24), match='CoreyMSchafer@gmail.com'>\n<re.Match object; span=(25, 53), match='corey.schafer@university.edu'>\n<re.Match object; span=(54, 83), match='corey-321-schafer@my-work.net'>\n"
     ]
    }
   ],
   "source": [
    "\n",
    "emails = '''\n",
    "CoreyMSchafer@gmail.com\n",
    "corey.schafer@university.edu\n",
    "corey-321-schafer@my-work.net\n",
    "'''\n",
    "\n",
    "#si queremos un or o agrupar es con ( | )\n",
    "#[a-zA-Z.]+@ esta linea dice queremos matchear mayusculas desde la a z hasta que encontremos un @ \n",
    "pattern=re.compile(r'[a-zA-Z0-9.-]+@[a-zA-Z-]+\\.(com|edu|net)')  \n",
    "matches=pattern.finditer(emails)\n",
    "for match in matches: \n",
    "        print(match)"
   ]
  },
  {
   "cell_type": "code",
   "execution_count": 104,
   "metadata": {},
   "outputs": [
    {
     "output_type": "stream",
     "name": "stdout",
     "text": [
      "com\ncom\ncom\ngov\n\ngoogle.com\ncoreyms.com\nyoutube.com\nnasa.gov\n\n"
     ]
    }
   ],
   "source": [
    "urls = '''\n",
    "https://www.google.com\n",
    "http://coreyms.com\n",
    "https://youtube.com\n",
    "https://www.nasa.gov\n",
    "'''\n",
    "#TODO si querés podés podés poner parénesis para agrupar los resultados, y verlos con .group()\n",
    "#TODO y si querés quedarte con una parte de estos podes hacer esto\n",
    "\n",
    "\n",
    "pattern=re.compile(r'https?://(www\\.)?(\\w+\\.)(\\w+)')  \n",
    "subbed_urls=pattern.sub(r'\\2\\3',urls)\n",
    "matches=pattern.finditer(urls)\n",
    "for match in matches: \n",
    "        print(match.group(3))\n",
    "print(subbed_urls)\n"
   ]
  },
  {
   "cell_type": "code",
   "execution_count": 108,
   "metadata": {},
   "outputs": [
    {
     "output_type": "stream",
     "name": "stdout",
     "text": [
      "<re.Match object; span=(0, 5), match='Start'>\n"
     ]
    }
   ],
   "source": [
    "sentence= 'Start a sentence and then bring it to an end'\n",
    "pattern=re.compile(r'start',re.I)\n",
    "matches=pattern.search(sentence)\n",
    "print(matches)"
   ]
  },
  {
   "cell_type": "code",
   "execution_count": 116,
   "metadata": {},
   "outputs": [
    {
     "output_type": "stream",
     "name": "stdout",
     "text": [
      "great_pyrenees\n"
     ]
    }
   ],
   "source": [
    "text='great_pyrenees_173.jpg'\n",
    "pattern=re.compile(r'((.+))_\\d+.jpg$')\n",
    "matches=pattern.finditer(text)\n",
    "for match in matches: \n",
    "        print(match.group(1))"
   ]
  },
  {
   "source": [
    "\n",
    "<h1> Presizing </h1>\n",
    "\n",
    "The performance requirement suggests that we should, where possible, compose our augmentation transforms into fewer transforms (to reduce the number of computations and the number of lossy operations) and transform the images into uniform sizes (for more efficient processing on the GPU).<br>\n",
    "    Resize images to relatively \"large\" dimensions—that is, dimensions significantly larger than the target training dimensions.\n",
    "    Compose all of the common augmentation operations (including a resize to the final target size) into one, and perform the combined operation on the GPU only once at the end of processing, rather than performing the operations individually and interpolating multiple times."
   ],
   "cell_type": "markdown",
   "metadata": {}
  },
  {
   "source": [
    "Crop full width or height: This is in item_tfms, so it's applied to each individual image before it is copied to the GPU. It's used to ensure all images are the same size. On the training set, the crop area is chosen randomly. On the validation set, the center square of the image is always chosen.\n"
   ],
   "cell_type": "markdown",
   "metadata": {}
  },
  {
   "source": [
    "\n",
    "<h2> Checking and Debugging a DataBlock</h2>\n",
    "pets1 = DataBlock(blocks = (ImageBlock, CategoryBlock), <br>\n",
    "                 get_items=get_image_files, <br>\n",
    "                 splitter=RandomSplitter(seed=42),<br>\n",
    "                 get_y=using_attr(RegexLabeller(r'(.+)_\\d+.jpg$'), 'name'))\n",
    "                 <br><br>\n",
    "                 \n",
    "pets1.summary(path/\"images\")<br>\n",
    "dls.show_batch(nrows=1, ncols=3)<br> #estos comandos sirven para debugear\n",
    "\n"
   ],
   "cell_type": "markdown",
   "metadata": {}
  },
  {
   "cell_type": "code",
   "execution_count": 3,
   "metadata": {},
   "outputs": [
    {
     "output_type": "error",
     "ename": "IndentationError",
     "evalue": "expected an indented block (<ipython-input-3-eddbd005381c>, line 5)",
     "traceback": [
      "\u001b[1;36m  File \u001b[1;32m\"<ipython-input-3-eddbd005381c>\"\u001b[1;36m, line \u001b[1;32m5\u001b[0m\n\u001b[1;33m    return train,valid\u001b[0m\n\u001b[1;37m    ^\u001b[0m\n\u001b[1;31mIndentationError\u001b[0m\u001b[1;31m:\u001b[0m expected an indented block\n"
     ]
    }
   ],
   "source": [
    "def splitter(df):\n",
    "    for rows in df:\n",
    "        if df[rows]['is_valid'] == \"True\":\n",
    "                train= df.indice/rows?\n",
    "                else\n",
    "                valid=df.indice/rows?\n",
    "\n",
    "    return train,valid"
   ]
  },
  {
   "cell_type": "code",
   "execution_count": null,
   "metadata": {},
   "outputs": [],
   "source": []
  }
 ]
}