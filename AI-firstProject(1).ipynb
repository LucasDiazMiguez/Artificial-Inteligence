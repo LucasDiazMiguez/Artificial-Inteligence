{
 "cells": [
  {
   "cell_type": "code",
   "execution_count": null,
   "metadata": {
    "gradient": {},
    "scrolled": true
   },
   "outputs": [],
   "source": [
    "!pip install jmd_imagescraper\n",
    "from fastai.vision.widgets import *\n",
    "from fastai.vision.all import *\n",
    "from jmd_imagescraper.imagecleaner import * # dont't worry, it's designed to work with import * \n",
    "from jmd_imagescraper.core import * # dont't worry, it's designed to work with import *\n",
    "from pathlib import Path"
   ]
  },
  {
   "cell_type": "code",
   "execution_count": null,
   "metadata": {
    "gradient": {}
   },
   "outputs": [],
   "source": [
    "root = Path().cwd()/'peopleimages'\n",
    "duckduckgo_search(root, \"teenagers\", \"children and teenagers\", max_results=40)\n",
    "duckduckgo_search(root, \"adults\", \"adults\", max_results=40)\n",
    "duckduckgo_search(root, \"babys\", \"babys\", max_results=40)\n",
    "duckduckgo_search(root, \"oldpeople\", \"old people\", max_results=40)\n"
   ]
  },
  {
   "cell_type": "code",
   "execution_count": null,
   "metadata": {
    "gradient": {}
   },
   "outputs": [],
   "source": [
    "\n",
    "camino='../notebooks/peopleimages'\n",
    "display_image_cleaner(camino)"
   ]
  },
  {
   "cell_type": "code",
   "execution_count": null,
   "metadata": {
    "gradient": {}
   },
   "outputs": [],
   "source": [
    "#cuando creo el dataloader recién ahi le pasa el path para buscar las imagenes\n",
    " \n",
    "# get_image_files is a fastai function that helps us grab all the image files (recursively) in one folder.\n",
    "\n",
    "#files = get_image_files(path/\"images\")\n",
    "#len(files)\n",
    "\n",
    "edades = DataBlock(blocks=(ImageBlock, CategoryBlock),get_items=get_image_files,batch_tfms=aug_transforms(),item_tfms=Resize(224), get_y = parent_label,splitter=RandomSplitter())\n",
    "\n",
    "#def parent (path):\n",
    "    #return path.parent.name\n",
    "\n",
    "#parent(Path('../notebooks/peopleimages/babys/068_4b7c2456.jpg'))\n",
    "\n",
    "dls=edades.dataloaders(camino)\n",
    "dls.valid.show_batch(max_n=64)"
   ]
  },
  {
   "cell_type": "code",
   "execution_count": null,
   "metadata": {
    "gradient": {}
   },
   "outputs": [],
   "source": [
    "edades.datasets('../notebooks/peopleimages/')\n",
    "edades.datasets('../notebooks/peopleimages/')[0]\n",
    "\n",
    "# no puedo darle a la red neural este nommbre de archivo, \n",
    "#asique necesito codificar para que nos de una imagen y lo convierta en binario o en tensor\n"
   ]
  },
  {
   "cell_type": "code",
   "execution_count": null,
   "metadata": {
    "gradient": {}
   },
   "outputs": [],
   "source": [
    "def parent (path):\n",
    "    return path.parent.name\n",
    "\n",
    "parent(Path('../notebooks/peopleimages/babys/068_4b7c2456.jpg'))\n"
   ]
  },
  {
   "cell_type": "code",
   "execution_count": null,
   "metadata": {
    "gradient": {}
   },
   "outputs": [],
   "source": [
    "learn= cnn_learner(dls,resnet34,metrics=error_rate)\n",
    "learn.fit_one_cycle(4)"
   ]
  },
  {
   "cell_type": "code",
   "execution_count": null,
   "metadata": {
    "gradient": {}
   },
   "outputs": [],
   "source": [
    "#learn.show_results()\n",
    "interp = ClassificationInterpretation.from_learner(learn)\n",
    "interp.plot_confusion_matrix()"
   ]
  },
  {
   "cell_type": "code",
   "execution_count": null,
   "metadata": {
    "gradient": {},
    "scrolled": true
   },
   "outputs": [],
   "source": [
    "interp.plot_top_losses(5)"
   ]
  },
  {
   "cell_type": "code",
   "execution_count": null,
   "metadata": {
    "gradient": {}
   },
   "outputs": [],
   "source": [
    "#te muestra las peorse categorias de los demas\n",
    "cleaner= ImageClassifierCleaner(learn)\n",
    "cleaner"
   ]
  },
  {
   "cell_type": "code",
   "execution_count": null,
   "metadata": {
    "gradient": {}
   },
   "outputs": [],
   "source": [
    "#for idx in cleaner.delete(): cleaner.fns[idx].unlink() #este es para eliminar SE ROMPIO\n",
    "#for idx,cat in cleaner.change(): shutil.move(str(cleaner.fns[idx]),path/cat)    #este es para cambiar"
   ]
  },
  {
   "cell_type": "code",
   "execution_count": null,
   "metadata": {
    "gradient": {}
   },
   "outputs": [],
   "source": [
    "learn.export() #crea un archivo de learner."
   ]
  },
  {
   "cell_type": "code",
   "execution_count": null,
   "metadata": {
    "gradient": {}
   },
   "outputs": [],
   "source": [
    "\n",
    "learn_inf = load_learner('../notebooks/export.pkl') #cargo el learner\n"
   ]
  },
  {
   "cell_type": "code",
   "execution_count": null,
   "metadata": {
    "gradient": {}
   },
   "outputs": [],
   "source": [
    "#estos 4 numeros  te dan las probabilidades de que sea cada uno\n",
    "learn_inf.dls.vocab"
   ]
  },
  {
   "cell_type": "code",
   "execution_count": null,
   "metadata": {
    "gradient": {}
   },
   "outputs": [],
   "source": [
    "%%js  %%html\n",
    "\n",
    "<body>\n",
    "    <script>\n",
    "        function callthisfunction(){\n",
    "            alert(\"adsflkj\");\n",
    "        }\n",
    "    </script>\n",
    "    <h1>Testing js  html  jupyter nootebooks</h1>\n",
    "    <button onclick=\"callthisfunction()\"></button>\n",
    "</body>\n",
    "</html>"
   ]
  },
  {
   "cell_type": "code",
   "execution_count": null,
   "metadata": {
    "gradient": {}
   },
   "outputs": [],
   "source": [
    "!pip install voila\n",
    "!jupyter serverextension enable voila --sys-prefix\n"
   ]
  },
  {
   "cell_type": "code",
   "execution_count": null,
   "metadata": {},
   "outputs": [],
   "source": []
  }
 ],
 "metadata": {
  "kernelspec": {
   "display_name": "Python 3",
   "language": "python",
   "name": "python3"
  },
  "language_info": {
   "codemirror_mode": {
    "name": "ipython",
    "version": 3
   },
   "file_extension": ".py",
   "mimetype": "text/x-python",
   "name": "python",
   "nbconvert_exporter": "python",
   "pygments_lexer": "ipython3",
   "version": "3.8.6"
  }
 },
 "nbformat": 4,
 "nbformat_minor": 4
}
