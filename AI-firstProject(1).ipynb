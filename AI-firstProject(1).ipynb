{
 "metadata": {
  "language_info": {
   "codemirror_mode": {
    "name": "ipython",
    "version": 3
   },
   "file_extension": ".py",
   "mimetype": "text/x-python",
   "name": "python",
   "nbconvert_exporter": "python",
   "pygments_lexer": "ipython3",
   "version": 3
  },
  "orig_nbformat": 2
 },
 "nbformat": 4,
 "nbformat_minor": 2,
 "cells": [
  {
   "source": [
    "<h1> Chapter five</h1>\n",
    "\n",
    "Para encontrar textos podemos usar los siguientes comandos \n",
    ":  #son caracteres especiales, necesitan una \\ para #que lo tomes de forma literal\n"
   ],
   "cell_type": "markdown",
   "metadata": {}
  },
  {
   "cell_type": "code",
   "execution_count": null,
   "metadata": {},
   "outputs": [],
   "source": [
    "pattern= re.compile(r’abc’) # la r significa Raw\n",
    "matches= pattern.finditer(text_to_search)\n",
    "\n",
    "for match in matches: \n",
    "    print(match)\n",
    "\n",
    "#MetaCharacters (needs to be escaped)"
   ]
  },
  {
   "cell_type": "code",
   "execution_count": null,
   "metadata": {},
   "outputs": [],
   "source": [
    "#MetaCharacters (needs to be escaped)"
   ]
  }
 ]
}